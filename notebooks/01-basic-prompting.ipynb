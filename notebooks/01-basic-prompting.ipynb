{
 "cells": [
  {
   "cell_type": "markdown",
   "metadata": {},
   "source": [
    "# Basic prompting"
   ]
  },
  {
   "cell_type": "code",
   "execution_count": 1,
   "metadata": {},
   "outputs": [
    {
     "data": {
      "text/plain": [
       "True"
      ]
     },
     "execution_count": 1,
     "metadata": {},
     "output_type": "execute_result"
    }
   ],
   "source": [
    "from dotenv import find_dotenv, load_dotenv\n",
    "\n",
    "load_dotenv(find_dotenv())"
   ]
  },
  {
   "cell_type": "markdown",
   "metadata": {},
   "source": [
    "Send a message to a Dartmouth-hosted chat model:"
   ]
  },
  {
   "cell_type": "code",
   "execution_count": 2,
   "metadata": {},
   "outputs": [
    {
     "data": {
      "text/plain": [
       "AIMessage(content='Tails of joyful love\\nFaithful friends through thick and thin\\nLoyal canine heart', additional_kwargs={'refusal': None}, response_metadata={'token_usage': {'completion_tokens': 20, 'prompt_tokens': 41, 'total_tokens': 61}, 'model_name': 'meta-llama/Meta-Llama-3.1-8B-Instruct', 'system_fingerprint': '2.2.0-sha-db7e043', 'finish_reason': 'eos_token', 'logprobs': None}, id='run-f5fc8fa4-5b59-499d-a8e3-bc038abf71d6-0', usage_metadata={'input_tokens': 41, 'output_tokens': 20, 'total_tokens': 61})"
      ]
     },
     "execution_count": 2,
     "metadata": {},
     "output_type": "execute_result"
    }
   ],
   "source": [
    "from langchain_dartmouth.llms import ChatDartmouth\n",
    "\n",
    "llm = ChatDartmouth(model_name=\"llama-3-1-8b-instruct\")\n",
    "response = llm.invoke(\"Write a haiku about dogs\")\n",
    "response"
   ]
  },
  {
   "cell_type": "markdown",
   "metadata": {},
   "source": [
    "The response object holds the AI's message, but also some metadata. We can use the `pretty_print()` method to to print it in a more human-friendly format:"
   ]
  },
  {
   "cell_type": "code",
   "execution_count": 3,
   "metadata": {},
   "outputs": [
    {
     "name": "stdout",
     "output_type": "stream",
     "text": [
      "==================================\u001b[1m Ai Message \u001b[0m==================================\n",
      "\n",
      "Tails of joyful love\n",
      "Faithful friends through thick and thin\n",
      "Loyal canine heart\n"
     ]
    }
   ],
   "source": [
    "response.pretty_print()"
   ]
  },
  {
   "cell_type": "markdown",
   "metadata": {},
   "source": [
    "You may notice that the message is different than what you would see on [chat.dartmouth.edu](chat.dartmouth.edu), even when you use the same model. \n",
    " \n",
    "By setting up the same model with the same `temperature` and `seed` as on [chat.dartmouth.edu](chat.dartmouth.edu), we can get the same result:"
   ]
  },
  {
   "cell_type": "code",
   "execution_count": 11,
   "metadata": {},
   "outputs": [
    {
     "name": "stdout",
     "output_type": "stream",
     "text": [
      "==================================\u001b[1m Ai Message \u001b[0m==================================\n",
      "\n",
      "Furry friends abide\n",
      "Tails wagging, hearts full of love\n",
      "Faithful canine souls\n"
     ]
    }
   ],
   "source": [
    "llm = ChatDartmouth(model_name=\"llama-3-1-8b-instruct\", temperature=0, seed=42)\n",
    "response = llm.invoke(\"Write a haiku about dogs\")\n",
    "response.pretty_print()"
   ]
  },
  {
   "cell_type": "markdown",
   "metadata": {},
   "source": [
    "If we now follow up with another message, we see that the model does not retain the conversational context:"
   ]
  },
  {
   "cell_type": "code",
   "execution_count": 12,
   "metadata": {},
   "outputs": [
    {
     "name": "stdout",
     "output_type": "stream",
     "text": [
      "==================================\u001b[1m Ai Message \u001b[0m==================================\n",
      "\n",
      "For a cat, here are some fun facts and tips:\n",
      "\n",
      "**Fun Facts:**\n",
      "\n",
      "1. **Cats have scent glands on their faces**: Cats have scent glands located on either side of their nostrils, as well as on their lips, chin, and near their whiskers.\n",
      "2. **Cats can't taste sweetness**: Unlike humans, cats lack the taste receptors for sweetness. This is because they are obligate carnivores and don't need to detect sweetness in their diet.\n",
      "3. **Cats have three eyelids**: In addition to their upper and lower eyelids, cats also have a third eyelid called the nictitating membrane or \"haw.\" This lid helps keep their eyes clean and protected.\n",
      "4. **Cats can jump really high**: Cats are known for their agility and flexibility, and can jump up to five times their own height in a single bound.\n",
      "\n",
      "**Tips for Cat Owners:**\n",
      "\n",
      "1. **Provide scratching posts**: Cats need to scratch to maintain their nails and stretch their muscles. Providing a scratching post can help save your furniture.\n",
      "2. **Keep your cat's litter box clean**: Cats are very particular about their litter boxes and will avoid using them if they're not clean.\n",
      "3. **Give your cat plenty of attention**: Cats need attention and affection from their owners, so make sure to spend quality time with your cat each day.\n",
      "4. **Provide a variety of toys**: Cats get bored with the same old toys, so try rotating them every few days to keep your cat engaged and entertained.\n",
      "\n",
      "**Health Tips:**\n",
      "\n",
      "1. **Keep your cat up to date on vaccinations**: Regular vaccinations can help protect your cat from diseases and illnesses.\n",
      "2. **Feed a balanced diet**: Make sure to feed your cat a high-quality, balanced diet that meets their nutritional needs.\n",
      "3. **Provide regular exercise**: Cats need regular exercise to stay healthy and happy. Try playing with your cat or providing a cat agility course.\n",
      "4. **Monitor your cat's health**: Keep an eye out for any changes in your cat's behavior or health, and consult with a veterinarian if you notice anything unusual.\n",
      "\n",
      "I hope these tips and fun facts are helpful! Do you have any specific questions about cats?\n"
     ]
    }
   ],
   "source": [
    "r = llm.invoke(\"Now for a cat\")\n",
    "r.pretty_print()"
   ]
  },
  {
   "cell_type": "markdown",
   "metadata": {},
   "source": [
    "To retain the context, we need to create a running list of all messages (human and AI) in the conversation and pass it to the `invoke` method:"
   ]
  },
  {
   "cell_type": "code",
   "execution_count": 13,
   "metadata": {},
   "outputs": [],
   "source": [
    "conversation = [\n",
    "    response,\n",
    "    (\"human\", \"Now for a cat\"),  # Format: (role, content)\n",
    "]"
   ]
  },
  {
   "cell_type": "code",
   "execution_count": 14,
   "metadata": {},
   "outputs": [
    {
     "name": "stdout",
     "output_type": "stream",
     "text": [
      "==================================\u001b[1m Ai Message \u001b[0m==================================\n",
      "\n",
      "Whiskers twitching, eyes so bright\n",
      "Independent feline, a gentle might\n",
      "Soft purrs fill the evening air\n"
     ]
    }
   ],
   "source": [
    "llm = ChatDartmouth(model_name=\"llama-3-1-8b-instruct\", temperature=0, seed=42)\n",
    "response = llm.invoke(conversation)\n",
    "response.pretty_print()"
   ]
  },
  {
   "cell_type": "markdown",
   "metadata": {},
   "source": [
    "On [chat.dartmouth.edu](https://chat.dartmouth.edu), tracking the message history is done automatically within the same conversation. When you start a new conversation, the message history resets."
   ]
  }
 ],
 "metadata": {
  "kernelspec": {
   "display_name": "Python 3",
   "language": "python",
   "name": "python3"
  },
  "language_info": {
   "codemirror_mode": {
    "name": "ipython",
    "version": 3
   },
   "file_extension": ".py",
   "mimetype": "text/x-python",
   "name": "python",
   "nbconvert_exporter": "python",
   "pygments_lexer": "ipython3",
   "version": "3.12.5"
  }
 },
 "nbformat": 4,
 "nbformat_minor": 2
}
